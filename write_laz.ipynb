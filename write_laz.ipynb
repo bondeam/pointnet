{
 "cells": [
  {
   "cell_type": "markdown",
   "metadata": {},
   "source": [
    "# Example notebook for writing LAZ data\n",
    "\n",
    "For this example I simply downloaded the \"Oakland\" dataset (training) http://www.cs.cmu.edu/~vmr/datasets/oakland_3d/cvpr09/doc/ and converted the dataset to multiple LAZ files.\n",
    "\n"
   ]
  },
  {
   "cell_type": "code",
   "execution_count": 8,
   "metadata": {},
   "outputs": [],
   "source": [
    "from pathlib import Path\n",
    "import laspy\n",
    "\n",
    "import numpy as np\n",
    "import pandas as pd\n",
    "import dask.dataframe as dd\n",
    "from dask.delayed import delayed\n",
    "\n",
    "#%load_ext line_profiler"
   ]
  },
  {
   "cell_type": "code",
   "execution_count": 32,
   "metadata": {},
   "outputs": [
    {
     "data": {
      "text/html": [
       "<div>\n",
       "<style scoped>\n",
       "    .dataframe tbody tr th:only-of-type {\n",
       "        vertical-align: middle;\n",
       "    }\n",
       "\n",
       "    .dataframe tbody tr th {\n",
       "        vertical-align: top;\n",
       "    }\n",
       "\n",
       "    .dataframe thead th {\n",
       "        text-align: right;\n",
       "    }\n",
       "</style>\n",
       "<table border=\"1\" class=\"dataframe\">\n",
       "  <thead>\n",
       "    <tr style=\"text-align: right;\">\n",
       "      <th></th>\n",
       "      <th>x</th>\n",
       "      <th>y</th>\n",
       "      <th>z</th>\n",
       "      <th>intensity</th>\n",
       "      <th>classification</th>\n",
       "    </tr>\n",
       "  </thead>\n",
       "  <tbody>\n",
       "    <tr>\n",
       "      <th>0</th>\n",
       "      <td>158.67</td>\n",
       "      <td>132.31</td>\n",
       "      <td>-1.92</td>\n",
       "      <td>1400</td>\n",
       "      <td>2</td>\n",
       "    </tr>\n",
       "    <tr>\n",
       "      <th>1</th>\n",
       "      <td>158.99</td>\n",
       "      <td>132.00</td>\n",
       "      <td>3.76</td>\n",
       "      <td>1400</td>\n",
       "      <td>2</td>\n",
       "    </tr>\n",
       "    <tr>\n",
       "      <th>2</th>\n",
       "      <td>158.82</td>\n",
       "      <td>132.02</td>\n",
       "      <td>4.00</td>\n",
       "      <td>1400</td>\n",
       "      <td>2</td>\n",
       "    </tr>\n",
       "    <tr>\n",
       "      <th>3</th>\n",
       "      <td>158.80</td>\n",
       "      <td>132.26</td>\n",
       "      <td>3.34</td>\n",
       "      <td>1400</td>\n",
       "      <td>2</td>\n",
       "    </tr>\n",
       "    <tr>\n",
       "      <th>4</th>\n",
       "      <td>158.83</td>\n",
       "      <td>132.24</td>\n",
       "      <td>3.64</td>\n",
       "      <td>1400</td>\n",
       "      <td>2</td>\n",
       "    </tr>\n",
       "  </tbody>\n",
       "</table>\n",
       "</div>"
      ],
      "text/plain": [
       "        x       y     z  intensity  classification\n",
       "0  158.67  132.31 -1.92       1400               2\n",
       "1  158.99  132.00  3.76       1400               2\n",
       "2  158.82  132.02  4.00       1400               2\n",
       "3  158.80  132.26  3.34       1400               2\n",
       "4  158.83  132.24  3.64       1400               2"
      ]
     },
     "execution_count": 32,
     "metadata": {},
     "output_type": "execute_result"
    }
   ],
   "source": [
    "data_dir = Path('data/training')\n",
    "data = data_dir.joinpath('oakland_part3_an_training.xyz_label_conf')\n",
    "df = pd.read_csv(data, header=None, delimiter=' ', names=['x','y','z','intensity','classification'])\n",
    "df.head()\n"
   ]
  },
  {
   "cell_type": "code",
   "execution_count": 37,
   "metadata": {},
   "outputs": [
    {
     "name": "stdout",
     "output_type": "stream",
     "text": [
      "<laspy.header.Header object at 0x7fbd846ea590>\n",
      "[0.01, 0.01, 0.01]\n"
     ]
    }
   ],
   "source": [
    "header = laspy.header.Header()\n",
    "print(header)\n",
    "#print(header.scale,header.offset)\n",
    "header.scale = [0.01,0.01,0.01]\n",
    "print(header.scale)\n",
    "outfile = laspy.file.File(str(data_dir.joinpath('oakland_part3_an_training.las')), mode=\"w\", header=header)\n",
    "tmp = df.x.values*100\n",
    "tmp1 = tmp.astype(np.int32)\n",
    "outfile.X = tmp1\n",
    "tmp = df.y.values*100\n",
    "tmp1 = tmp.astype(np.int32)\n",
    "outfile.Y = tmp1\n",
    "tmp = df.z.values*100\n",
    "tmp1 = tmp.astype(np.int32)\n",
    "outfile.Z = tmp1\n",
    "outfile.int = df.intensity.values\n",
    "outfile.cls = df.classification.values\n",
    "outfile.close()"
   ]
  },
  {
   "cell_type": "code",
   "execution_count": 50,
   "metadata": {},
   "outputs": [
    {
     "name": "stdout",
     "output_type": "stream",
     "text": [
      "[85 79 78 81 85 87 81 81 85 83]\n",
      "[21406 21407 21408 21409]\n",
      "[4708639, 1123109, 251547, 17777, 402]\n",
      "X\n",
      "Y\n",
      "Z\n",
      "intensity\n",
      "flag_byte\n",
      "raw_classification\n",
      "scan_angle_rank\n",
      "user_data\n",
      "pt_src_id\n",
      "gps_time\n"
     ]
    }
   ],
   "source": [
    "inFile = laspy.file.File('/root/data/notw_grid00_00-00.las', mode=\"r\")\n",
    "print(inFile.intensity[0:10])\n",
    "print(np.unique(inFile.pt_src_id))\n",
    "\n",
    "print(inFile.header.point_return_count)\n",
    "\n",
    "# Find out what the point format looks like.\n",
    "pointformat = inFile.point_format\n",
    "for spec in inFile.point_format:\n",
    "    print(spec.name)"
   ]
  },
  {
   "cell_type": "code",
   "execution_count": null,
   "metadata": {},
   "outputs": [],
   "source": []
  }
 ],
 "metadata": {
  "kernelspec": {
   "display_name": "Python 3",
   "language": "python",
   "name": "python3"
  },
  "language_info": {
   "codemirror_mode": {
    "name": "ipython",
    "version": 3
   },
   "file_extension": ".py",
   "mimetype": "text/x-python",
   "name": "python",
   "nbconvert_exporter": "python",
   "pygments_lexer": "ipython3",
   "version": "3.7.6"
  }
 },
 "nbformat": 4,
 "nbformat_minor": 2
}
